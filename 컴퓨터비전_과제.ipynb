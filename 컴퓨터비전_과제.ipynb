{
  "cells": [
    {
      "cell_type": "markdown",
      "metadata": {
        "id": "view-in-github",
        "colab_type": "text"
      },
      "source": [
        "<a href=\"https://colab.research.google.com/github/bidulgiya999/Kaggle-Ukraine-vs-Russia-war-/blob/master/%EC%BB%B4%ED%93%A8%ED%84%B0%EB%B9%84%EC%A0%84_%EA%B3%BC%EC%A0%9C.ipynb\" target=\"_parent\"><img src=\"https://colab.research.google.com/assets/colab-badge.svg\" alt=\"Open In Colab\"/></a>"
      ]
    },
    {
      "cell_type": "code",
      "execution_count": null,
      "id": "1fcc2aab-dd79-4522-a282-a9bff735418e",
      "metadata": {
        "id": "1fcc2aab-dd79-4522-a282-a9bff735418e",
        "outputId": "c9420922-d22c-4e9e-ba38-8b94b603a1d6"
      },
      "outputs": [
        {
          "name": "stdout",
          "output_type": "stream",
          "text": [
            "Note: you may need to restart the kernel to use updated packages.\n"
          ]
        },
        {
          "name": "stderr",
          "output_type": "stream",
          "text": [
            "ERROR: Could not find a version that satisfies the requirement tensorflow-addons (from versions: none)\n",
            "ERROR: No matching distribution found for tensorflow-addons\n"
          ]
        }
      ],
      "source": [
        "#pip install tensorflow-addons"
      ]
    },
    {
      "cell_type": "code",
      "execution_count": null,
      "id": "fa3fdfab-a6d9-4993-9a69-12a2df7b6fde",
      "metadata": {
        "id": "fa3fdfab-a6d9-4993-9a69-12a2df7b6fde"
      },
      "outputs": [],
      "source": [
        "import cv2,sys\n",
        "import numpy as np\n",
        "import os\n",
        "import tensorflow as tf\n",
        "import math\n",
        "#import tensorflow_addons as tfa"
      ]
    },
    {
      "cell_type": "code",
      "execution_count": null,
      "id": "a68381b0-89bf-4847-9dde-8f2ef9479c77",
      "metadata": {
        "id": "a68381b0-89bf-4847-9dde-8f2ef9479c77",
        "outputId": "10d78b1d-0395-4ce8-c070-622459d9cdc1"
      },
      "outputs": [
        {
          "name": "stdout",
          "output_type": "stream",
          "text": [
            "Requirement already satisfied: pillow in c:\\users\\sba\\anaconda3\\lib\\site-packages (10.3.0)\n",
            "Note: you may need to restart the kernel to use updated packages.\n"
          ]
        }
      ],
      "source": [
        "pip install pillow"
      ]
    },
    {
      "cell_type": "code",
      "execution_count": null,
      "id": "ac3ff4f5-d433-459e-9677-fd3e705be277",
      "metadata": {
        "id": "ac3ff4f5-d433-459e-9677-fd3e705be277"
      },
      "outputs": [],
      "source": [
        "# 1. 배경 : 휜색 책상, 우드 테이블\n",
        "# 2. 데이터 증식 조건\n",
        "# 2.0 스마트폰으로 사진 촬영후 이미지 크기를 줄여주자(이미지 크기 224 x 224)\n",
        "# 대상물 촬영을 어떻게 해야할지 확인\n",
        "\n",
        "\n",
        "# 2.1 rotate :회전 ( 10 - 30도) 범위 안에서 어느 정도 각도를 넣어야 인식이 잘되는가?\n",
        "# 2.2 hflip, vflip : 도움이 되는가? 넣을 것인가?\n",
        "# 2.3 resize, crop : 가능하면 적용해 보자\n",
        "# 2.4 파일명을 다르게 저장하자 ex) jelly_wood.jpg, jelly_white.jpg\n",
        "# jelly_wood_rot_15.jpg, jelly_wood_hflip.jpg -> 원본이미지에 어떤 것을 적용했는지를 알 수 있게\n",
        "# 2.5 클래스 별로 폴더를 생성\n",
        "# 2.6 데이터를 어떻게 넣느냐에 따라 어떻게 동작되는지 요약 -> 한, 두줄로 요약\n",
        "\n",
        "\n",
        "# 구성순서\n",
        "# 1. 촬영한다\n",
        "# 2. 이미지를 컴퓨터로 복사, resize한다\n",
        "# 3. 육안으로 확인, 이렇게 사용해도 되는가?\n",
        "# 4. 함수들을 만든다. resize, rotate, hflip, vflip, crop\n",
        "#    원본파일명을 읽어서 파일명을 생성하는 기능은 모든 함수에 있어야 한다(함수)\n",
        "# 5. 단일 함수를 검증\n",
        "# 6. 함수를 활용해서 기능을 구현\n",
        "# 7. 테스트(경우의수)\n",
        "# 8. 데이터셋을 teachable machine 사이트에 올려서 테스트\n",
        "# 9. 인식이 잘 안되는 케이스를 분석하고 케이스 추가 1 - 8에서 구현된 기능을 이용"
      ]
    },
    {
      "cell_type": "code",
      "execution_count": null,
      "id": "a1b9f655-92a3-45b6-a7fb-ecb8fcd0b6fd",
      "metadata": {
        "id": "a1b9f655-92a3-45b6-a7fb-ecb8fcd0b6fd"
      },
      "outputs": [],
      "source": [
        "from PIL import Image"
      ]
    },
    {
      "cell_type": "code",
      "execution_count": null,
      "id": "3e2d15f8-45fe-4b0c-83b8-2fe51c052c0d",
      "metadata": {
        "id": "3e2d15f8-45fe-4b0c-83b8-2fe51c052c0d"
      },
      "outputs": [],
      "source": [
        "import cv2\n",
        "import os\n",
        "\n",
        "def resize(image_path, output_path, new_width=224, new_height=224):\n",
        "    \"\"\" 이미지 크기를 조정하는 함수 \"\"\"\n",
        "    img = cv2.imread(image_path)\n",
        "    resized_img = cv2.resize(img, (new_width, new_height))\n",
        "    cv2.imwrite(output_path, resized_img)\n",
        "\n",
        "def rotate(image_path, output_path, angle):\n",
        "    \"\"\" 이미지를 회전시키는 함수 \"\"\"\n",
        "    img = cv2.imread(image_path)\n",
        "    rows, cols = img.shape[:2]\n",
        "    M = cv2.getRotationMatrix2D((cols / 2, rows / 2), angle, 1)\n",
        "    rotated_img = cv2.warpAffine(img, M, (cols, rows))\n",
        "    cv2.imwrite(output_path, rotated_img)\n",
        "\n",
        "def hflip(image_path, output_path):\n",
        "    \"\"\" 이미지를 수평으로 뒤집는 함수 \"\"\"\n",
        "    img = cv2.imread(image_path)\n",
        "    flipped_img = cv2.flip(img, 1)  # 1: 수평 뒤집기\n",
        "    cv2.imwrite(output_path, flipped_img)\n",
        "\n",
        "def vflip(image_path, output_path):\n",
        "    \"\"\" 이미지를 수직으로 뒤집는 함수 \"\"\"\n",
        "    img = cv2.imread(image_path)\n",
        "    flipped_img = cv2.flip(img, 0)  # 0: 수직 뒤집기\n",
        "    cv2.imwrite(output_path, flipped_img)\n",
        "\n",
        "def crop(image_path, output_path, x, y, width, height):\n",
        "    \"\"\" 이미지를 자르는 함수 \"\"\"\n",
        "    img = cv2.imread(image_path)\n",
        "    cropped_img = img[y:y+height, x:x+width]\n",
        "    cv2.imwrite(output_path, cropped_img)\n",
        "\n",
        "def create_output_filename(original_filename, operation, angle=None):\n",
        "    \"\"\" 출력 파일 이름 생성 함수 \"\"\"\n",
        "    filename, ext = os.path.splitext(original_filename)\n",
        "    if operation == \"rotate\":\n",
        "        return f\"{filename}_{operation}_{angle}{ext}\"\n",
        "    else:\n",
        "        return f\"{filename}_{operation}{ext}\"\n"
      ]
    },
    {
      "cell_type": "code",
      "execution_count": null,
      "id": "62ba7e25-48fb-4573-b19a-003f2ccfd94b",
      "metadata": {
        "id": "62ba7e25-48fb-4573-b19a-003f2ccfd94b"
      },
      "outputs": [],
      "source": [
        "# 데이터 증식 적용\n",
        "data_dir = \"C:/Users/SBA/Desktop/camel_wood\"  # 데이터 폴더 경로\n",
        "original_filename = \"camel_wood.jpg\"  # 원본 파일 이름\n",
        "original_path = os.path.join(data_dir, original_filename)\n",
        "\n",
        "# 이미지 크기 조정\n",
        "resized_path = os.path.join(data_dir, create_output_filename(original_filename, \"resized\"))\n",
        "resize(original_path, resized_path)\n",
        "\n",
        "# 회전 (30도)\n",
        "rotated_path = os.path.join(data_dir, create_output_filename(original_filename, \"rotate\", 30))\n",
        "rotate(original_path, rotated_path, 30)\n",
        "\n",
        "# 수평 뒤집기\n",
        "hflipped_path = os.path.join(data_dir, create_output_filename(original_filename, \"hflip\"))\n",
        "hflip(original_path, hflipped_path)\n",
        "\n",
        "# 수직 뒤집기\n",
        "vflipped_path = os.path.join(data_dir, create_output_filename(original_filename, \"vflip\"))\n",
        "vflip(original_path, vflipped_path)"
      ]
    },
    {
      "cell_type": "code",
      "execution_count": null,
      "id": "245d34dd-915e-4f22-97a5-e904d547df23",
      "metadata": {
        "id": "245d34dd-915e-4f22-97a5-e904d547df23"
      },
      "outputs": [],
      "source": []
    }
  ],
  "metadata": {
    "kernelspec": {
      "display_name": "Python 3 (ipykernel)",
      "language": "python",
      "name": "python3"
    },
    "language_info": {
      "codemirror_mode": {
        "name": "ipython",
        "version": 3
      },
      "file_extension": ".py",
      "mimetype": "text/x-python",
      "name": "python",
      "nbconvert_exporter": "python",
      "pygments_lexer": "ipython3",
      "version": "3.12.4"
    },
    "colab": {
      "provenance": [],
      "include_colab_link": true
    }
  },
  "nbformat": 4,
  "nbformat_minor": 5
}